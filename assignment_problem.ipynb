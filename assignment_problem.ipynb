{
 "cells": [
  {
   "cell_type": "code",
   "execution_count": null,
   "metadata": {},
   "outputs": [],
   "source": [
    "'''\n",
    "https://en.wikipedia.org/wiki/Assignment_problem\n",
    "https://docs.scipy.org/doc/scipy/reference/generated/scipy.optimize.linear_sum_assignment.html\n",
    "\n",
    "order of lists is important (eg, student 1 before student 2). in case of draw the preferences of the first list are preferred\n",
    "student1    [3, 2, 1] -> student 1 prefers topic 3, then 2 and lastly the first topic (C > B > A)\n",
    "\n",
    "example 1:\n",
    "weight_of topic1 topic2 topic3\n",
    "student1    [3, 2, 1], \n",
    "student2    [1, 3, 2], \n",
    "student3    [2, 1, 3]\n",
    "->\n",
    "adjusted (plus one) array indices of best solution: [3 1 2]\n",
    "S1 gets topic3, S2 gets topic 1, S3 gets topic 2\n",
    "\n",
    "example 2:\n",
    "not an issue, if more topics than students\n",
    "[4,3,1,2], \n",
    "[2,4,1,3], \n",
    "[2,1,3,4], \n",
    "->\n",
    "adjusted (plus one) array indices of best solution: [3 1 2]\n",
    "\n",
    "example 3:\n",
    "if less topics than students, and each topic is assigned more than once:\n",
    "list each topic accordingly to the number it is assigned. eg, topic1 can be chosen 4 times and topic2 3 times\n",
    "[1,1,1,1,2,2,2]\n",
    "[2,2,2,2,1,1,1]\n",
    "'''"
   ]
  },
  {
   "cell_type": "code",
   "execution_count": null,
   "metadata": {},
   "outputs": [],
   "source": [
    "import pandas as pd\n",
    "import numpy as np\n",
    "from scipy.optimize import linear_sum_assignment\n",
    "\n",
    "\n",
    "file_location = r\"C:\\Users\\g21728\\Desktop\\Masterthesis.xlsx\"\n",
    "# file_location = r\"C:\\Users\\g21728\\Desktop\\WS21\\Übersicht_Teilnehmer_Bachelor-Thesis.xlsx\"\n",
    "# file_location = r\"C:\\Users\\g21728\\Desktop\\WS21\\Übersicht_Teilnehmer_Masterseminar.xlsx\"\n",
    "# file_location = r\"C:\\Users\\g21728\\Desktop\\WS21\\Übersicht_Teilnehmer_Proseminar.xlsx\"\n",
    "\n",
    "df = pd.read_excel(file_location, sheet_name=\"Tabelle1\")\n",
    "\n",
    "#get student grades to order list descending\n",
    "df_grades = pd.read_excel(r\"V:\\Veranstaltungsunterlagen\\5 Wissenschaftliche Arbeiten\\Zuteilung_Wöhrmann_wissenschaftliche Arbeiten_SoSe22.xlsx\")\n",
    "df_grades.rename(columns={\"matrikelnummer\": \"Matrnr\"}, inplace=True)\n",
    "df_grades = df_grades[[\"Matrnr\", \"Durchschnittsnote\"]]\n",
    "df_grades[:3]\n",
    "\n",
    "#merge with grades and sort descending\n",
    "df = df.merge(df_grades, how=\"left\", on=\"Matrnr\")\n",
    "df.sort_values(by=[\"Durchschnittsnote\"], ascending=False, inplace=True)\n",
    "df\n",
    "\n",
    "# drop zurückgetreten students\n",
    "df = df[df[\"Themen-Präferenzen\"].str.contains(\"zurückgetreten|Rücktritt\", regex=True)==False]\n",
    "\n",
    "# convert float columns to int\n",
    "# df.dtypes # datatype of columns\n",
    "df[\"Matrnr\"] = df[\"Matrnr\"].astype(\"Int64\") #Int64 can store missing values as NaN\n",
    "\n",
    "# remove whitespaces from lists\n",
    "df[\"Themen-Präferenzen\"] = df[\"Themen-Präferenzen\"].str.replace(' ', '') \n",
    "df[\"Themen-Präferenzen\"] = df[\"Themen-Präferenzen\"].apply(eval) # lists are stored as strings in pandas -> convert with apply(eval)\n",
    "\n",
    "\n",
    "df[:2]"
   ]
  },
  {
   "cell_type": "code",
   "execution_count": 29,
   "metadata": {},
   "outputs": [
    {
     "name": "stdout",
     "output_type": "stream",
     "text": [
      "Available Topics: 6\n",
      "Assigned Topics: 6\n",
      "Number of students: 6\n",
      "array indices of best solution: [1 3 0 2 4 5]\n",
      "adjusted (plus one) indices of best solution: [2, 4, 1, 3, 5, 6]\n",
      "\n",
      "Student 1: Assigned topic 2 (selected as #1)\n",
      "Student 2: Assigned topic 4 (selected as #1)\n",
      "Student 3: Assigned topic 1 (selected as #2)\n",
      "Student 4: Assigned topic 3 (selected as #3)\n",
      "Student 5: Assigned topic 5 (selected as #2)\n",
      "Student 6: Assigned topic 6 (selected as #4)\n",
      "\n",
      "Total Sum of preferences (lowest sum possible): 13\n",
      "\n"
     ]
    }
   ],
   "source": [
    "# preferences = [\n",
    "#     [4,3,1,2], \n",
    "#     [2,4,1,3], \n",
    "#     [2,1,3,4], \n",
    "#     ]\n",
    "\n",
    "preferences = df['Themen-Präferenzen'].to_list()\n",
    "\n",
    "cost = np.array(preferences)\n",
    "row_ind, col_ind = linear_sum_assignment(cost) #results stored as list in col_ind\n",
    "adj_ind = [i+1 for i in col_ind] #adjust by plus one since it starts at zero\n",
    "\n",
    "print(f\"Available Topics: {len(preferences[0])}\")\n",
    "print(f\"Assigned Topics: {len(col_ind)}\")\n",
    "print(f\"Number of students: {df.index[-1] + 1}\")\n",
    "print(f\"array indices of best solution: {col_ind}\")\n",
    "print(f\"adjusted (plus one) indices of best solution: {adj_ind}\\n\")\n",
    "\n",
    "\n",
    "for i,v in enumerate(preferences):\n",
    "    selected_topic = col_ind[i]+1\n",
    "    pref_of_selected_topic = v[col_ind[i]]\n",
    "    print(f\"Student {i+1}: Assigned topic {selected_topic} (selected as #{pref_of_selected_topic})\")\n",
    "print(f\"\\nTotal Sum of preferences (lowest sum possible): {cost[row_ind, col_ind].sum()}\\n\")\n",
    "\n",
    "df[\"assigned_topic\"] = adj_ind # copy assigned topics to column\n",
    "\n",
    "#move columns\n",
    "col = df.pop(\"assigned_topic\")\n",
    "df.insert(df.columns.get_loc(\"Themen-Präferenzen\") + 1, col.name, col)\n",
    "\n",
    "#append new sheet to existing excel file\n",
    "with pd.ExcelWriter(file_location, mode='a', engine='openpyxl') as writer:  \n",
    "    df.to_excel(writer, sheet_name='assigned', index=False)"
   ]
  },
  {
   "cell_type": "markdown",
   "metadata": {},
   "source": [
    "### merge assigned topics with Betreuer sheet"
   ]
  },
  {
   "cell_type": "code",
   "execution_count": 98,
   "metadata": {},
   "outputs": [],
   "source": [
    "df2 = pd.read_excel(file_location, sheet_name=\"Themen\")\n",
    "# df2\n",
    "\n",
    "df3 = df.merge(df2, how=\"left\", left_on=\"scipy.optimize.linear_sum_assignment\", right_on=\"Thema\")\n",
    "df3[\"Betreuer_x\"] = df3[\"Betreuer_y\"]\n",
    "df3.rename(columns={\"Betreuer_x\":\"Betreuer\"}, inplace=True)\n",
    "df3[\"Thema DE\"] = df3[\"Titel DE\"]\n",
    "df3.drop([\"Titel DE\", \"Thema\", \"Betreuer_y\"],1, inplace=True)\n",
    "\n",
    "# df3\n",
    "df3.to_excel(save_location, sheet_name=\"Final\", index=False)"
   ]
  },
  {
   "cell_type": "markdown",
   "metadata": {},
   "source": [
    "### adjust weights of specific students"
   ]
  },
  {
   "cell_type": "code",
   "execution_count": null,
   "metadata": {},
   "outputs": [],
   "source": [
    "prefe = df['Themen-Präferenzen'].to_list() # can be directly modified by accessing prefe\n",
    "\n",
    "# prefer X first students by overweighting their first coice\n",
    "preferred_number = 1\n",
    "# prefer first students by adding X to each other student -> doesnt work\n",
    "# for i in range(len(prefe)):\n",
    "#     if i >= preferred_number:\n",
    "#         x = list(map(lambda x:x+1, prefe[i])) # add 1 to each preference weight for students after preferred students\n",
    "#         df.loc[i, \"Themen-Präferenzen\"] = str(x)\n",
    "#     else:\n",
    "#         df.loc[i, \"Themen-Präferenzen\"] = str(prefe[i])\n",
    "\n",
    "# first choice of preferred students gets -1 weight -> more likely that preferred students get their first choice\n",
    "# for i in range(len(prefe)):\n",
    "#     if i < preferred_number:\n",
    "#         index_min_value = prefe[i].index(min(prefe[i]))\n",
    "#         prefe[i][index_min_value] -= 1 # adjust weight of first choice by minus one\n",
    "#         print(prefe[i])\n",
    "#         df.loc[i, \"Themen-Präferenzen\"] = str(prefe[i])\n",
    "#     else:\n",
    "#         df.loc[i, \"Themen-Präferenzen\"] = str(prefe[i])\n",
    "# df[\"Themen-Präferenzen\"] = df[\"Themen-Präferenzen\"].apply(eval) # lists are stored as strings in pandas -> convert with apply(eval)\n",
    "\n",
    "# ignore a specific topic of all students (otherwise unpopular topic gets ignored if more topics avaiable than students)\n",
    "for i in range(len(prefe)):\n",
    "    # print(prefe[i][5:8])\n",
    "    prefe[i].pop() # drop last element. directly modifies dataframe\n",
    "    prefe[i][5] = 99 # ignore topic at index X (5 -> drop topic 6)\n",
    "    # prefe[i].pop(5) # drop \n",
    "\n",
    "\n",
    "# preferences = df['Themen-Präferenzen'].to_list()\n",
    "# print(preferences)\n",
    "df"
   ]
  }
 ],
 "metadata": {
  "interpreter": {
   "hash": "5e4aafd60b89faf829bb631a70127baab53f039d716eb47a9252b1029db85184"
  },
  "kernelspec": {
   "display_name": "Python 3.7.4 64-bit",
   "name": "python3"
  },
  "language_info": {
   "codemirror_mode": {
    "name": "ipython",
    "version": 3
   },
   "file_extension": ".py",
   "mimetype": "text/x-python",
   "name": "python",
   "nbconvert_exporter": "python",
   "pygments_lexer": "ipython3",
   "version": "3.7.4"
  },
  "orig_nbformat": 4
 },
 "nbformat": 4,
 "nbformat_minor": 2
}
