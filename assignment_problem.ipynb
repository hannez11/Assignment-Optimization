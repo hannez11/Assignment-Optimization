{
 "cells": [
  {
   "cell_type": "markdown",
   "metadata": {},
   "source": [
    "## load and clean student data and their prefences"
   ]
  },
  {
   "cell_type": "code",
   "execution_count": null,
   "metadata": {},
   "outputs": [],
   "source": [
    "import pandas as pd\n",
    "import numpy as np\n",
    "from scipy.optimize import linear_sum_assignment\n",
    "\n",
    "\n",
    "file_location = r\"C:\\Users\\g21728\\Desktop\\Masterseminar.xlsx\"\n",
    "# file_location = r\"C:\\Users\\g21728\\Desktop\\WS21\\Übersicht_Teilnehmer_Bachelor-Thesis.xlsx\"\n",
    "# file_location = r\"C:\\Users\\g21728\\Desktop\\WS21\\Übersicht_Teilnehmer_Masterseminar.xlsx\"\n",
    "# file_location = r\"C:\\Users\\g21728\\Desktop\\WS21\\Übersicht_Teilnehmer_Proseminar.xlsx\"\n",
    "\n",
    "df = pd.read_excel(file_location, sheet_name=\"Tabelle1\")\n",
    "\n",
    "#optional\n",
    "#get student grades to order list descending\n",
    "df_grades = pd.read_excel(r\"V:\\Veranstaltungsunterlagen\\5 Wissenschaftliche Arbeiten\\Zuteilung_Wöhrmann_wissenschaftliche Arbeiten_SoSe22.xlsx\")\n",
    "df_grades.rename(columns={\"matrikelnummer\": \"Matrnr\"}, inplace=True)\n",
    "df_grades = df_grades[[\"Matrnr\", \"Durchschnittsnote\"]]\n",
    "df_grades[:3]\n",
    "#merge with grades and sort descending\n",
    "df = df.merge(df_grades, how=\"left\", on=\"Matrnr\")\n",
    "df.sort_values(by=[\"Durchschnittsnote\"], ascending=False, inplace=True,)\n",
    "df\n",
    "#\n",
    "\n",
    "#rename Themenpräferenz column\n",
    "df.rename(columns={\"Themenpräferenz\": \"Themen\", \"Themen-Präferenzen\": \"Themen\"}, inplace=True)\n",
    "\n",
    "# drop zurückgetreten students\n",
    "df = df[df[\"Themen\"].str.contains(\"zurückgetreten|Rücktritt|abgemeldet\", regex=True)==False]\n",
    "\n",
    "# convert float columns to int\n",
    "# df.dtypes # datatype of columns\n",
    "df[\"Matrnr\"] = df[\"Matrnr\"].astype(\"Int64\") #Int64 can store missing values as NaN\n",
    "\n",
    "# remove whitespaces from lists\n",
    "df[\"Themen\"] = df[\"Themen\"].str.replace(' ', '') \n",
    "df[\"Themen\"] = df[\"Themen\"].apply(eval) # lists are stored as strings in pandas -> convert with apply(eval)\n",
    "\n",
    "number_of_topics = len(df.iloc[1,5])\n",
    "print(f\"Number of different topics: {number_of_topics}\")\n",
    "\n",
    "#############\n",
    "#if one topic is assigned multiple times, then multiple each topic n times (in seminar courses):\n",
    "if \"seminar\" in file_location.lower():\n",
    "    topic_multiplier = [4,4,3] #4,4,4 -> each topic is offered 4 times\n",
    "    df[\"Themen\"] = df[\"Themen\"].apply(lambda x: np.repeat(x, topic_multiplier))\n",
    "#############\n",
    "\n",
    "total_topics = sum(topic_multiplier)\n",
    "print(f\"Total number of topics: {total_topics}\")\n",
    "print(f\"Number of students: {df.shape[0]}\") #number of rows\n",
    "\n",
    "df.reset_index(inplace=True)\n",
    "df.drop(columns=[\"index\"], inplace=True)\n",
    "df[:2]"
   ]
  },
  {
   "cell_type": "markdown",
   "metadata": {},
   "source": [
    "## assign topics"
   ]
  },
  {
   "cell_type": "code",
   "execution_count": 73,
   "metadata": {},
   "outputs": [
    {
     "name": "stdout",
     "output_type": "stream",
     "text": [
      "Available Topics: 11\n",
      "Assigned Topics: 11\n",
      "Number of students: 11\n",
      "array indices of best solution: [ 4  8  5  9 10  6  0  7  3  1  2]\n",
      "adjusted (plus one) indices of best solution: [2, 3, 2, 3, 3, 2, 1, 2, 1, 1, 1]\n",
      "\n",
      "Student 1: Assigned topic 2 (selected as #1)\n",
      "Student 2: Assigned topic 3 (selected as #1)\n",
      "Student 3: Assigned topic 2 (selected as #1)\n",
      "Student 4: Assigned topic 3 (selected as #1)\n",
      "Student 5: Assigned topic 3 (selected as #1)\n",
      "Student 6: Assigned topic 2 (selected as #1)\n",
      "Student 7: Assigned topic 1 (selected as #1)\n",
      "Student 8: Assigned topic 2 (selected as #1)\n",
      "Student 9: Assigned topic 1 (selected as #2)\n",
      "Student 10: Assigned topic 1 (selected as #2)\n",
      "Student 11: Assigned topic 1 (selected as #2)\n",
      "\n",
      "Total Sum of preferences (lowest sum possible): 14\n",
      "\n"
     ]
    }
   ],
   "source": [
    "# preferences = [\n",
    "#     [4,3,1,2], \n",
    "#     [2,4,1,3], \n",
    "#     [2,1,3,4], \n",
    "#     ]\n",
    "\n",
    "preferences = df['Themen'].to_list()\n",
    "\n",
    "cost = np.array(preferences)\n",
    "row_ind, col_ind = linear_sum_assignment(cost) #results stored as list in col_ind\n",
    "adj_ind = [i+1 for i in col_ind] #adjust by plus one since it starts at zero\n",
    "\n",
    "#############\n",
    "if \"seminar\" in file_location.lower():\n",
    "    cumsum = np.cumsum(topic_multiplier) #cumulative sum of the elements\n",
    "\n",
    "    #if more students than topics, then adj_ind is misleading. check in which topic range adj_ind is assigned: \n",
    "    new_list = []\n",
    "    for i in adj_ind:\n",
    "        for index,value in enumerate(cumsum):\n",
    "            if i <= value and index == 0:\n",
    "                new_list.append(index+1)\n",
    "            elif i <= value and i > cumsum[index-1]:\n",
    "                new_list.append(index+1)\n",
    "    adj_ind = new_list #overwrite old list\n",
    "#############\n",
    "\n",
    "\n",
    "print(f\"Available Topics: {len(preferences[0])}\")\n",
    "print(f\"Assigned Topics: {len(col_ind)}\")\n",
    "print(f\"Number of students: {df.shape[0]}\")\n",
    "print(f\"array indices of best solution: {col_ind}\")\n",
    "print(f\"adjusted (plus one) indices of best solution: {adj_ind}\\n\")\n",
    "\n",
    "\n",
    "for i,v in enumerate(preferences):\n",
    "    selected_topic = adj_ind[i]\n",
    "    pref_of_selected_topic = v[col_ind[i]]\n",
    "    print(f\"Student {i+1}: Assigned topic {selected_topic} (selected as #{pref_of_selected_topic})\")\n",
    "print(f\"\\nTotal Sum of preferences (lowest sum possible): {cost[row_ind, col_ind].sum()}\\n\")\n",
    "\n",
    "df[\"assigned_topic\"] = adj_ind # copy assigned topics to column\n",
    "\n",
    "#move columns\n",
    "col = df.pop(\"assigned_topic\")\n",
    "df.insert(df.columns.get_loc(\"Themen\") + 1, col.name, col)\n",
    "\n",
    "#append new sheet to existing excel file\n",
    "with pd.ExcelWriter(file_location, mode='a', engine='openpyxl') as writer:  \n",
    "    df.to_excel(writer, sheet_name='assigned', index=False)"
   ]
  },
  {
   "cell_type": "markdown",
   "metadata": {},
   "source": [
    "### merge assigned topics with Betreuer sheet"
   ]
  },
  {
   "cell_type": "code",
   "execution_count": 98,
   "metadata": {},
   "outputs": [],
   "source": [
    "df2 = pd.read_excel(file_location, sheet_name=\"Themen\")\n",
    "# df2\n",
    "\n",
    "df3 = df.merge(df2, how=\"left\", left_on=\"scipy.optimize.linear_sum_assignment\", right_on=\"Thema\")\n",
    "df3[\"Betreuer_x\"] = df3[\"Betreuer_y\"]\n",
    "df3.rename(columns={\"Betreuer_x\":\"Betreuer\"}, inplace=True)\n",
    "df3[\"Thema DE\"] = df3[\"Titel DE\"]\n",
    "df3.drop([\"Titel DE\", \"Thema\", \"Betreuer_y\"],1, inplace=True)\n",
    "\n",
    "# df3\n",
    "df3.to_excel(save_location, sheet_name=\"Final\", index=False)"
   ]
  },
  {
   "cell_type": "markdown",
   "metadata": {},
   "source": [
    "### adjust weights of specific students"
   ]
  },
  {
   "cell_type": "code",
   "execution_count": null,
   "metadata": {},
   "outputs": [],
   "source": [
    "prefe = df['Themen-Präferenzen'].to_list() # can be directly modified by accessing prefe\n",
    "\n",
    "# prefer X first students by overweighting their first coice\n",
    "preferred_number = 1\n",
    "# prefer first students by adding X to each other student -> doesnt work\n",
    "# for i in range(len(prefe)):\n",
    "#     if i >= preferred_number:\n",
    "#         x = list(map(lambda x:x+1, prefe[i])) # add 1 to each preference weight for students after preferred students\n",
    "#         df.loc[i, \"Themen-Präferenzen\"] = str(x)\n",
    "#     else:\n",
    "#         df.loc[i, \"Themen-Präferenzen\"] = str(prefe[i])\n",
    "\n",
    "# first choice of preferred students gets -1 weight -> more likely that preferred students get their first choice\n",
    "# for i in range(len(prefe)):\n",
    "#     if i < preferred_number:\n",
    "#         index_min_value = prefe[i].index(min(prefe[i]))\n",
    "#         prefe[i][index_min_value] -= 1 # adjust weight of first choice by minus one\n",
    "#         print(prefe[i])\n",
    "#         df.loc[i, \"Themen-Präferenzen\"] = str(prefe[i])\n",
    "#     else:\n",
    "#         df.loc[i, \"Themen-Präferenzen\"] = str(prefe[i])\n",
    "# df[\"Themen-Präferenzen\"] = df[\"Themen-Präferenzen\"].apply(eval) # lists are stored as strings in pandas -> convert with apply(eval)\n",
    "\n",
    "# ignore a specific topic of all students (otherwise unpopular topic gets ignored if more topics avaiable than students)\n",
    "for i in range(len(prefe)):\n",
    "    # print(prefe[i][5:8])\n",
    "    prefe[i].pop() # drop last element. directly modifies dataframe\n",
    "    prefe[i][5] = 99 # ignore topic at index X (5 -> drop topic 6)\n",
    "    # prefe[i].pop(5) # drop \n",
    "\n",
    "\n",
    "# preferences = df['Themen-Präferenzen'].to_list()\n",
    "# print(preferences)\n",
    "df"
   ]
  }
 ],
 "metadata": {
  "interpreter": {
   "hash": "5e4aafd60b89faf829bb631a70127baab53f039d716eb47a9252b1029db85184"
  },
  "kernelspec": {
   "display_name": "Python 3.7.4 64-bit",
   "name": "python3"
  },
  "language_info": {
   "codemirror_mode": {
    "name": "ipython",
    "version": 3
   },
   "file_extension": ".py",
   "mimetype": "text/x-python",
   "name": "python",
   "nbconvert_exporter": "python",
   "pygments_lexer": "ipython3",
   "version": "3.7.4"
  },
  "orig_nbformat": 4
 },
 "nbformat": 4,
 "nbformat_minor": 2
}
